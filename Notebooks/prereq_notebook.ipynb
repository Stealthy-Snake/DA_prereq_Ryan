{
 "cells": [
  {
   "cell_type": "code",
   "execution_count": null,
   "id": "de7a4172",
   "metadata": {
    "vscode": {
     "languageId": "plaintext"
    }
   },
   "outputs": [],
   "source": [
    "print(\"Hello, world!\")"
   ]
  },
  {
   "cell_type": "markdown",
   "id": "d9a870f6",
   "metadata": {},
   "source": [
    "## About Me\n",
    "\n",
    "Hi, I'm Ryan! I'm excited to learn data analytics and sharpen my Python skills.  Looking forward to working with the mentors and training team"
   ]
  }
 ],
 "metadata": {
  "language_info": {
   "name": "python"
  }
 },
 "nbformat": 4,
 "nbformat_minor": 5
}
